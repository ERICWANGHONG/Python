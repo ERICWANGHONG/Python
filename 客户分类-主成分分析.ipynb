{
 "cells": [
  {
   "cell_type": "code",
   "execution_count": 1,
   "id": "95396e3f-3a97-40bb-95ba-8c1800f2f0c0",
   "metadata": {},
   "outputs": [],
   "source": [
    "import pandas as pd\n",
    "import numpy as np\n",
    "from sklearn.preprocessing import RobustScaler\n",
    "from sklearn.decomposition import PCA\n",
    "from sklearn.preprocessing import StandardScaler"
   ]
  },
  {
   "cell_type": "markdown",
   "id": "8d34ad0e-63b2-4d92-a54f-f821fb8d2f41",
   "metadata": {},
   "source": [
    "(鲁棒标准化)RobustScaler介绍：https://blog.csdn.net/qq_36001281/article/details/132993478\n",
    "x'= [ x- Q(50)]/[Q(75)- Q(25)]，Q代表分位数"
   ]
  },
  {
   "cell_type": "code",
   "execution_count": 2,
   "id": "e036a10e-847a-436a-a3a9-5a827419e19d",
   "metadata": {
    "scrolled": true
   },
   "outputs": [],
   "source": [
    "#数据读取：\n",
    "filepath='E:/Python/需批量处理数据/'\n",
    "data=pd.read_excel(filepath + '客户平均价格-仅3列forpython.xlsx')"
   ]
  },
  {
   "cell_type": "markdown",
   "id": "2039919f-4b7c-4ed1-8b36-81b5ee359cdb",
   "metadata": {},
   "source": [
    "# 检查是否有负值\n",
    "if (df[['销量', '利润', '销售额', '平均单价']] < 0).any().any():\n",
    "    raise ValueError(\"数据中存在负值，请检查数据的合理性\")\n",
    "\n",
    "# 使用鲁棒标准化\n",
    "scaler = RobustScaler()\n",
    "df_scaled = scaler.fit_transform(df[['销量', '利润', '销售额', '平均单价']])"
   ]
  },
  {
   "cell_type": "code",
   "execution_count": 3,
   "id": "d211ba89-b2c3-4352-b3b0-3741f013bc5a",
   "metadata": {},
   "outputs": [],
   "source": [
    "#使用z-score标准正态化\n",
    "scaler=StandardScaler()\n",
    "df_scaled = scaler.fit_transform(data[['重量', '平均单价', '利润','']])"
   ]
  },
  {
   "cell_type": "code",
   "execution_count": 4,
   "id": "fb6fe58c-8ac1-474a-8e27-010b17cf4b5f",
   "metadata": {},
   "outputs": [
    {
     "name": "stdout",
     "output_type": "stream",
     "text": [
      "PCA权重:  [ 0.7050666  -0.08404985  0.70414254]\n",
      "                 客户       综合分数\n",
      "0        上海煜谦贸易有限公司  13.976392\n",
      "1        深圳珍果贸易有限公司   7.618039\n",
      "2       嘉兴悦好进出口有限公司   5.498020\n",
      "3     北京硕果多农业科技有限公司   4.805748\n",
      "4      江苏卓誉信息技术有限公司   2.879499\n",
      "..              ...        ...\n",
      "201    重庆汀源农副产品有限公司  -0.868879\n",
      "202    重庆汀源农副产品有限公司  -0.899031\n",
      "203        昆明金马档口零售  -1.123257\n",
      "204  青岛一亩良田生态农业有限公司  -1.728745\n",
      "205   重庆渝贸智享供应链有限公司  -0.795127\n",
      "\n",
      "[206 rows x 2 columns]\n"
     ]
    }
   ],
   "source": [
    "# 主成分分析\n",
    "pca = PCA(n_components=1)\n",
    "pca.fit(df_scaled)\n",
    "\n",
    "# 主成分的权重\n",
    "weights = pca.components_[0]\n",
    "print(\"PCA权重: \", weights)\n",
    "\n",
    "# 计算综合分数\n",
    "data['综合分数'] = df_scaled.dot(weights)\n",
    "\n",
    "# 排序\n",
    "#df = data.sort_values(by='综合分数', ascending=False)\n",
    "\n",
    "# 输出排名\n",
    "print(data[['客户', '综合分数']])\n"
   ]
  },
  {
   "cell_type": "code",
   "execution_count": 5,
   "id": "7d828abe-7293-4ee5-8af2-dd0c1223cba8",
   "metadata": {},
   "outputs": [],
   "source": [
    "data.to_excel(filepath + 'C客户排名-PCA.xlsx')"
   ]
  },
  {
   "cell_type": "code",
   "execution_count": null,
   "id": "fefc9708-e4c7-4bdd-b3fc-e24f8d973402",
   "metadata": {},
   "outputs": [],
   "source": []
  }
 ],
 "metadata": {
  "kernelspec": {
   "display_name": "Python 3 (ipykernel)",
   "language": "python",
   "name": "python3"
  },
  "language_info": {
   "codemirror_mode": {
    "name": "ipython",
    "version": 3
   },
   "file_extension": ".py",
   "mimetype": "text/x-python",
   "name": "python",
   "nbconvert_exporter": "python",
   "pygments_lexer": "ipython3",
   "version": "3.12.4"
  }
 },
 "nbformat": 4,
 "nbformat_minor": 5
}
