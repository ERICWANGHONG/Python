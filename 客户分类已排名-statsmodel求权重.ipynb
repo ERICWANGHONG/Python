{
 "cells": [
  {
   "cell_type": "code",
   "execution_count": 2,
   "id": "f25b2ab4-1acd-4d1f-827e-92c33cfbc95b",
   "metadata": {},
   "outputs": [],
   "source": [
    "import pandas as pd\n",
    "import numpy as np\n",
    "from sklearn.preprocessing import RobustScaler\n",
    "from sklearn.decomposition import PCA\n",
    "from sklearn.preprocessing import StandardScaler\n",
    "import statsmodels.api as sm"
   ]
  },
  {
   "cell_type": "code",
   "execution_count": 5,
   "id": "7149b088-0684-4f4c-beed-ea63b88a5160",
   "metadata": {},
   "outputs": [],
   "source": [
    "#数据读取：\n",
    "filepath='E:/Python/需批量处理数据/'\n",
    "df=pd.read_excel(filepath + '客户平均价格-仅3列forpython.xlsx')"
   ]
  },
  {
   "cell_type": "code",
   "execution_count": 6,
   "id": "cbab8739-d6fd-46fd-8397-f5176b7000bf",
   "metadata": {},
   "outputs": [
    {
     "name": "stdout",
     "output_type": "stream",
     "text": [
      "                            OLS Regression Results                            \n",
      "==============================================================================\n",
      "Dep. Variable:                     排名   R-squared:                       0.639\n",
      "Model:                            OLS   Adj. R-squared:                  0.619\n",
      "Method:                 Least Squares   F-statistic:                     31.00\n",
      "Date:                Mon, 22 Jul 2024   Prob (F-statistic):           7.49e-15\n",
      "Time:                        19:14:42   Log-Likelihood:                -323.73\n",
      "No. Observations:                  75   AIC:                             657.5\n",
      "Df Residuals:                      70   BIC:                             669.1\n",
      "Df Model:                           4                                         \n",
      "Covariance Type:            nonrobust                                         \n",
      "==============================================================================\n",
      "                 coef    std err          t      P>|t|      [0.025      0.975]\n",
      "------------------------------------------------------------------------------\n",
      "const         88.1725     12.558      7.021      0.000      63.126     113.219\n",
      "利润         -8.816e-08   4.62e-07     -0.191      0.849   -1.01e-06    8.33e-07\n",
      "均价            -0.0158      0.151     -0.105      0.917      -0.318       0.286\n",
      "重量          -2.11e-05    2.6e-05     -0.812      0.420    -7.3e-05    3.08e-05\n",
      "合作月份数         -9.3546      1.235     -7.573      0.000     -11.818      -6.891\n",
      "==============================================================================\n",
      "Omnibus:                        3.913   Durbin-Watson:                   1.386\n",
      "Prob(Omnibus):                  0.141   Jarque-Bera (JB):                3.215\n",
      "Skew:                           0.351   Prob(JB):                        0.200\n",
      "Kurtosis:                       3.731   Cond. No.                     1.18e+08\n",
      "==============================================================================\n",
      "\n",
      "Notes:\n",
      "[1] Standard Errors assume that the covariance matrix of the errors is correctly specified.\n",
      "[2] The condition number is large, 1.18e+08. This might indicate that there are\n",
      "strong multicollinearity or other numerical problems.\n"
     ]
    }
   ],
   "source": [
    "# 特征和目标变量\n",
    "X = df[['利润', '均价', '重量', '合作月份数']]\n",
    "y = df['排名']\n",
    "\n",
    "# 添加常数项\n",
    "X = sm.add_constant(X)\n",
    "\n",
    "# 建立回归模型\n",
    "model = sm.OLS(y, X).fit()\n",
    "\n",
    "# 打印回归结果\n",
    "print(model.summary())"
   ]
  },
  {
   "cell_type": "code",
   "execution_count": 7,
   "id": "51428086-43b4-4201-b882-6286a8239a92",
   "metadata": {},
   "outputs": [
    {
     "name": "stdout",
     "output_type": "stream",
     "text": [
      "const    8.817253e+01\n",
      "利润      -8.815716e-08\n",
      "均价      -1.584866e-02\n",
      "重量      -2.110275e-05\n",
      "合作月份数   -9.354590e+00\n",
      "dtype: float64\n"
     ]
    }
   ],
   "source": [
    "# 获取特征权重\n",
    "weights = model.params\n",
    "print(weights)\n"
   ]
  },
  {
   "cell_type": "code",
   "execution_count": null,
   "id": "732a547a-955b-4f9a-b42f-af0fdbb7396b",
   "metadata": {},
   "outputs": [],
   "source": [
    "# 标准化处理\n",
    "from sklearn.preprocessing import MinMaxScaler\n",
    "\n",
    "scaler = MinMaxScaler()\n",
    "df[['标准化利润', '标准化均价', '标准化重量', '标准化合作月份数']] = scaler.fit_transform(df[['利润', '均价', '重量', '合作月份数']])\n",
    "\n",
    "# 使用模型权重计算综合分数\n",
    "df['综合分数'] = (\n",
    "    weights['利润'] * df['标准化利润'] +\n",
    "    weights['均价'] * df['标准化均价'] +\n",
    "    weights['重量'] * df['标准化重量'] +\n",
    "    weights['合作月份数'] * df['标准化合作月份数']\n",
    ")\n",
    "\n",
    "# 计算综合排名\n",
    "df['综合排名'] = df['综合分数'].rank(ascending=False)\n",
    "\n",
    "# 按综合排名进行排序\n",
    "df.sort_values(by='综合排名', inplace=True)\n",
    "\n",
    "# 输出结果\n",
    "print(df[['客户', '利润', '均价', '重量', '合作月份数', '综合分数', '综合排名']])\n"
   ]
  }
 ],
 "metadata": {
  "kernelspec": {
   "display_name": "Python 3 (ipykernel)",
   "language": "python",
   "name": "python3"
  },
  "language_info": {
   "codemirror_mode": {
    "name": "ipython",
    "version": 3
   },
   "file_extension": ".py",
   "mimetype": "text/x-python",
   "name": "python",
   "nbconvert_exporter": "python",
   "pygments_lexer": "ipython3",
   "version": "3.12.4"
  }
 },
 "nbformat": 4,
 "nbformat_minor": 5
}
