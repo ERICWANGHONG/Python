{
 "cells": [
  {
   "cell_type": "code",
   "execution_count": 2,
   "id": "98e91f4d-7c42-493a-ae0d-b204465c2323",
   "metadata": {},
   "outputs": [],
   "source": [
    "import pandas as pd\n",
    "from fuzzywuzzy import process"
   ]
  },
  {
   "cell_type": "code",
   "execution_count": 5,
   "id": "400aacb1-c577-41ee-a1ee-9845275fd99f",
   "metadata": {},
   "outputs": [],
   "source": [
    "#两个不同的列\n",
    "#数据读取：\n",
    "filepath='E:/Python/需批量处理数据/'\n",
    "df=pd.read_excel(filepath + '名称匹配.xlsx')"
   ]
  },
  {
   "cell_type": "code",
   "execution_count": 8,
   "id": "797ff622-77ca-4257-ac88-42751354afa2",
   "metadata": {},
   "outputs": [],
   "source": [
    "A_names = df['Aname'].tolist()\n",
    "B_names = df['Bname'].tolist()\n",
    "\n",
    "# 创建一个新的DataFrame来存储匹配结果\n",
    "matched_results = []\n",
    "\n",
    "# 使用fuzzywuzzy的process模块进行模糊匹配\n",
    "for A_name in A_names:\n",
    "    if pd.isna(A_name):\n",
    "        matched_results.append({'名称': A_name, '匹配的名称': None, '匹配分数': 0})\n",
    "        continue\n",
    "\n",
    "    match, score = process.extractOne(A_name, B_names)\n",
    "    matched_results.append({'名称': A_name, '匹配的名称': match, '匹配分数': score})\n",
    "\n",
    "# 将匹配结果转换为DataFrame\n",
    "result_df = pd.DataFrame(matched_results)"
   ]
  },
  {
   "cell_type": "code",
   "execution_count": 9,
   "id": "f641ffe9-90d1-451c-8193-ad8e4e88739c",
   "metadata": {},
   "outputs": [
    {
     "name": "stdout",
     "output_type": "stream",
     "text": [
      "         名称   匹配的名称  匹配分数\n",
      "0        阿朋   阿朋加工厂    90\n",
      "1    保山华兴农场    华兴农场    90\n",
      "2    保山仁和农场    仁和农场    90\n",
      "3    保山杨柳农场    杨柳农场    90\n",
      "4    保山由旺基地  砚山炭房基地    50\n",
      "..      ...     ...   ...\n",
      "579     NaN    None     0\n",
      "580     NaN    None     0\n",
      "581     NaN    None     0\n",
      "582     NaN    None     0\n",
      "583     NaN    None     0\n",
      "\n",
      "[584 rows x 3 columns]\n"
     ]
    }
   ],
   "source": [
    "# 将结果写回到Excel文件\n",
    "output_file_path = filepath+'matched__names.xlsx'  # 输出文件路径\n",
    "result_df.to_excel(output_file_path, index=False)\n",
    "\n",
    "print(result_df)"
   ]
  },
  {
   "cell_type": "code",
   "execution_count": null,
   "id": "9b2e0f7f-e24a-4779-9657-bcbf15293b32",
   "metadata": {},
   "outputs": [],
   "source": [
    "\n",
    "\n",
    "# 假设这是财务部的农场名称\n",
    "financial_names = [\n",
    "    '阿朋', '保山华兴农场', '保山仁和农场', '保山杨柳农场', '保山由旺基地', \n",
    "    '岔科', '大理巍山农场', '东回1', '东回2', '东回3', '东回4', \n",
    "    '东回二号农场', '东回三号农场', '东回四号农场', '东回一号农场'\n",
    "]\n",
    "\n",
    "# 假设这是企微的农场名称\n",
    "qiwei_names = [\n",
    "    '阿朋农场', '华兴农场', '仁和农场', '杨柳农场', '由旺农场', \n",
    "    '岔科农场', '大理巍山农场', '澜沧东回一场', '澜沧东回二场', '澜沧东回三场', '澜沧东回四场'\n",
    "]\n",
    "\n",
    "# 创建一个DataFrame来存储结果\n",
    "result_df = pd.DataFrame(columns=['财务部农场名称', '企微农场名称'])\n",
    "\n",
    "# 使用fuzzywuzzy的process模块进行模糊匹配\n",
    "for financial_name in financial_names:\n",
    "    match, score = process.extractOne(financial_name, qiwei_names)\n",
    "    result_df = result_df.append({'财务部农场名称': financial_name, '企微农场名称': match}, ignore_index=True)\n",
    "\n",
    "# 保存结果到Excel文件\n",
    "result_df.to_excel('matched_farm_names.xlsx', index=False)\n",
    "\n",
    "print(result_df)\n"
   ]
  }
 ],
 "metadata": {
  "kernelspec": {
   "display_name": "Python 3 (ipykernel)",
   "language": "python",
   "name": "python3"
  },
  "language_info": {
   "codemirror_mode": {
    "name": "ipython",
    "version": 3
   },
   "file_extension": ".py",
   "mimetype": "text/x-python",
   "name": "python",
   "nbconvert_exporter": "python",
   "pygments_lexer": "ipython3",
   "version": "3.12.4"
  }
 },
 "nbformat": 4,
 "nbformat_minor": 5
}
